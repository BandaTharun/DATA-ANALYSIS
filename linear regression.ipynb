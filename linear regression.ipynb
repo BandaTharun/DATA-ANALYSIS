{
 "cells": [
  {
   "cell_type": "code",
   "execution_count": 2,
   "metadata": {},
   "outputs": [],
   "source": [
    "import numpy as np\n",
    "import pandas as pd\n",
    "\n",
    "data={ 'X': [i for i in range(1,8)],\n",
    "      'Y':[1.5,3.8,6.7,9.0,11.2,13.8,16]}\n"
   ]
  },
  {
   "cell_type": "code",
   "execution_count": 3,
   "metadata": {},
   "outputs": [
    {
     "data": {
      "text/html": [
       "<div>\n",
       "<style scoped>\n",
       "    .dataframe tbody tr th:only-of-type {\n",
       "        vertical-align: middle;\n",
       "    }\n",
       "\n",
       "    .dataframe tbody tr th {\n",
       "        vertical-align: top;\n",
       "    }\n",
       "\n",
       "    .dataframe thead th {\n",
       "        text-align: right;\n",
       "    }\n",
       "</style>\n",
       "<table border=\"1\" class=\"dataframe\">\n",
       "  <thead>\n",
       "    <tr style=\"text-align: right;\">\n",
       "      <th></th>\n",
       "      <th>X</th>\n",
       "      <th>Y</th>\n",
       "    </tr>\n",
       "  </thead>\n",
       "  <tbody>\n",
       "    <tr>\n",
       "      <th>0</th>\n",
       "      <td>1</td>\n",
       "      <td>1.5</td>\n",
       "    </tr>\n",
       "    <tr>\n",
       "      <th>1</th>\n",
       "      <td>2</td>\n",
       "      <td>3.8</td>\n",
       "    </tr>\n",
       "    <tr>\n",
       "      <th>2</th>\n",
       "      <td>3</td>\n",
       "      <td>6.7</td>\n",
       "    </tr>\n",
       "    <tr>\n",
       "      <th>3</th>\n",
       "      <td>4</td>\n",
       "      <td>9.0</td>\n",
       "    </tr>\n",
       "    <tr>\n",
       "      <th>4</th>\n",
       "      <td>5</td>\n",
       "      <td>11.2</td>\n",
       "    </tr>\n",
       "    <tr>\n",
       "      <th>5</th>\n",
       "      <td>6</td>\n",
       "      <td>13.8</td>\n",
       "    </tr>\n",
       "    <tr>\n",
       "      <th>6</th>\n",
       "      <td>7</td>\n",
       "      <td>16.0</td>\n",
       "    </tr>\n",
       "  </tbody>\n",
       "</table>\n",
       "</div>"
      ],
      "text/plain": [
       "   X     Y\n",
       "0  1   1.5\n",
       "1  2   3.8\n",
       "2  3   6.7\n",
       "3  4   9.0\n",
       "4  5  11.2\n",
       "5  6  13.8\n",
       "6  7  16.0"
      ]
     },
     "execution_count": 3,
     "metadata": {},
     "output_type": "execute_result"
    }
   ],
   "source": [
    "data = pd.DataFrame(data=data)\n",
    "data"
   ]
  },
  {
   "cell_type": "code",
   "execution_count": null,
   "metadata": {},
   "outputs": [],
   "source": []
  },
  {
   "cell_type": "markdown",
   "metadata": {},
   "source": [
    "$$m=\\frac{n\\sum xy-\\sum x\\sum y}{n \\sum x^2 -(\\sum x)^2}$$"
   ]
  },
  {
   "cell_type": "code",
   "execution_count": 4,
   "metadata": {},
   "outputs": [
    {
     "data": {
      "text/plain": [
       "(28, 62.0, 316.0, 784, 140, 8.857142857142858)"
      ]
     },
     "execution_count": 4,
     "metadata": {},
     "output_type": "execute_result"
    }
   ],
   "source": [
    "N = len(data)\n",
    "X=data['X']\n",
    "Y=data['Y']\n",
    "Y_MEAN=sum(data['Y'])/N\n",
    "data['XY'] =data['X']*data['Y']\n",
    "sum_XY=data['XY'].sum()\n",
    "sum_X=data['X'].sum()\n",
    "sum_Y=data['Y'].sum()\n",
    "sum_x_square= sum_X**2\n",
    "squar_X=data['X'] ** 2\n",
    "square_X=squar_X.sum()\n",
    " \n",
    "data['squar_X']= squar_X\n",
    "\n",
    "sum_X,sum_Y,sum_XY,sum_x_square,square_X,Y_MEAN\n",
    "\n",
    "\n",
    "\n",
    "\n"
   ]
  },
  {
   "cell_type": "code",
   "execution_count": 5,
   "metadata": {},
   "outputs": [
    {
     "data": {
      "text/plain": [
       "476.0"
      ]
     },
     "execution_count": 5,
     "metadata": {},
     "output_type": "execute_result"
    }
   ],
   "source": [
    "numerator= (N*sum_XY-sum_X * sum_Y)\n",
    "numerator"
   ]
  },
  {
   "cell_type": "code",
   "execution_count": 6,
   "metadata": {},
   "outputs": [
    {
     "data": {
      "text/plain": [
       "196"
      ]
     },
     "execution_count": 6,
     "metadata": {},
     "output_type": "execute_result"
    }
   ],
   "source": [
    "denominator = (N * square_X ) - sum_x_square\n",
    "denominator"
   ]
  },
  {
   "cell_type": "code",
   "execution_count": 7,
   "metadata": {},
   "outputs": [
    {
     "data": {
      "text/plain": [
       "(2.4285714285714284, 2.4285714285714284)"
      ]
     },
     "execution_count": 7,
     "metadata": {},
     "output_type": "execute_result"
    }
   ],
   "source": [
    "def Me(n,d):\n",
    "    a= n/d\n",
    "    return a\n",
    "\n",
    "M=numerator/denominator\n",
    "M,Me(numerator,denominator)"
   ]
  },
  {
   "cell_type": "markdown",
   "metadata": {},
   "source": [
    "$$B=\\frac{\\sum Y -M\\sum X}{N}$$"
   ]
  },
  {
   "cell_type": "code",
   "execution_count": 8,
   "metadata": {},
   "outputs": [],
   "source": [
    "#B=BAYSED"
   ]
  },
  {
   "cell_type": "code",
   "execution_count": 9,
   "metadata": {},
   "outputs": [
    {
     "data": {
      "text/plain": [
       "-0.8571428571428571"
      ]
     },
     "execution_count": 9,
     "metadata": {},
     "output_type": "execute_result"
    }
   ],
   "source": [
    "B= (sum_Y - M * sum_X)/N\n",
    "B"
   ]
  },
  {
   "cell_type": "markdown",
   "metadata": {},
   "source": [
    "$$ \\hat{Y} = MX + C $$"
   ]
  },
  {
   "cell_type": "code",
   "execution_count": 10,
   "metadata": {},
   "outputs": [],
   "source": [
    "#slope y = m x + c"
   ]
  },
  {
   "cell_type": "code",
   "execution_count": 11,
   "metadata": {},
   "outputs": [
    {
     "data": {
      "text/html": [
       "<div>\n",
       "<style scoped>\n",
       "    .dataframe tbody tr th:only-of-type {\n",
       "        vertical-align: middle;\n",
       "    }\n",
       "\n",
       "    .dataframe tbody tr th {\n",
       "        vertical-align: top;\n",
       "    }\n",
       "\n",
       "    .dataframe thead th {\n",
       "        text-align: right;\n",
       "    }\n",
       "</style>\n",
       "<table border=\"1\" class=\"dataframe\">\n",
       "  <thead>\n",
       "    <tr style=\"text-align: right;\">\n",
       "      <th></th>\n",
       "      <th>X</th>\n",
       "      <th>Y</th>\n",
       "      <th>XY</th>\n",
       "      <th>squar_X</th>\n",
       "      <th>Y_PRIDECT</th>\n",
       "      <th>Y_MEAN</th>\n",
       "      <th>X_MEAN</th>\n",
       "    </tr>\n",
       "  </thead>\n",
       "  <tbody>\n",
       "    <tr>\n",
       "      <th>0</th>\n",
       "      <td>1</td>\n",
       "      <td>1.5</td>\n",
       "      <td>1.5</td>\n",
       "      <td>1</td>\n",
       "      <td>1.571429</td>\n",
       "      <td>8.857143</td>\n",
       "      <td>4.0</td>\n",
       "    </tr>\n",
       "    <tr>\n",
       "      <th>1</th>\n",
       "      <td>2</td>\n",
       "      <td>3.8</td>\n",
       "      <td>7.6</td>\n",
       "      <td>4</td>\n",
       "      <td>4.000000</td>\n",
       "      <td>8.857143</td>\n",
       "      <td>4.0</td>\n",
       "    </tr>\n",
       "    <tr>\n",
       "      <th>2</th>\n",
       "      <td>3</td>\n",
       "      <td>6.7</td>\n",
       "      <td>20.1</td>\n",
       "      <td>9</td>\n",
       "      <td>6.428571</td>\n",
       "      <td>8.857143</td>\n",
       "      <td>4.0</td>\n",
       "    </tr>\n",
       "    <tr>\n",
       "      <th>3</th>\n",
       "      <td>4</td>\n",
       "      <td>9.0</td>\n",
       "      <td>36.0</td>\n",
       "      <td>16</td>\n",
       "      <td>8.857143</td>\n",
       "      <td>8.857143</td>\n",
       "      <td>4.0</td>\n",
       "    </tr>\n",
       "    <tr>\n",
       "      <th>4</th>\n",
       "      <td>5</td>\n",
       "      <td>11.2</td>\n",
       "      <td>56.0</td>\n",
       "      <td>25</td>\n",
       "      <td>11.285714</td>\n",
       "      <td>8.857143</td>\n",
       "      <td>4.0</td>\n",
       "    </tr>\n",
       "    <tr>\n",
       "      <th>5</th>\n",
       "      <td>6</td>\n",
       "      <td>13.8</td>\n",
       "      <td>82.8</td>\n",
       "      <td>36</td>\n",
       "      <td>13.714286</td>\n",
       "      <td>8.857143</td>\n",
       "      <td>4.0</td>\n",
       "    </tr>\n",
       "    <tr>\n",
       "      <th>6</th>\n",
       "      <td>7</td>\n",
       "      <td>16.0</td>\n",
       "      <td>112.0</td>\n",
       "      <td>49</td>\n",
       "      <td>16.142857</td>\n",
       "      <td>8.857143</td>\n",
       "      <td>4.0</td>\n",
       "    </tr>\n",
       "  </tbody>\n",
       "</table>\n",
       "</div>"
      ],
      "text/plain": [
       "   X     Y     XY  squar_X  Y_PRIDECT    Y_MEAN  X_MEAN\n",
       "0  1   1.5    1.5        1   1.571429  8.857143     4.0\n",
       "1  2   3.8    7.6        4   4.000000  8.857143     4.0\n",
       "2  3   6.7   20.1        9   6.428571  8.857143     4.0\n",
       "3  4   9.0   36.0       16   8.857143  8.857143     4.0\n",
       "4  5  11.2   56.0       25  11.285714  8.857143     4.0\n",
       "5  6  13.8   82.8       36  13.714286  8.857143     4.0\n",
       "6  7  16.0  112.0       49  16.142857  8.857143     4.0"
      ]
     },
     "execution_count": 11,
     "metadata": {},
     "output_type": "execute_result"
    }
   ],
   "source": [
    "data['Y_PRIDECT'] = [(M * X  + B) for X in range(1,8)]\n",
    "data['Y_MEAN']=sum(data['Y'])/N\n",
    "data['X_MEAN']=sum(data['X'])/N\n",
    "data\n"
   ]
  },
  {
   "cell_type": "code",
   "execution_count": 12,
   "metadata": {},
   "outputs": [
    {
     "data": {
      "text/plain": [
       "[1.5714285714285712,\n",
       " 3.9999999999999996,\n",
       " 6.428571428571428,\n",
       " 8.857142857142856,\n",
       " 11.285714285714285,\n",
       " 13.714285714285712,\n",
       " 16.142857142857142,\n",
       " 18.57142857142857,\n",
       " 20.999999999999996,\n",
       " 23.428571428571427,\n",
       " 25.857142857142854,\n",
       " 28.28571428571428,\n",
       " 30.71428571428571,\n",
       " 33.142857142857146]"
      ]
     },
     "execution_count": 12,
     "metadata": {},
     "output_type": "execute_result"
    }
   ],
   "source": [
    "Y_PRIDECT = [(M * X  + B) for X in range(1,15)]\n",
    "Y_PRIDECT "
   ]
  },
  {
   "cell_type": "code",
   "execution_count": 13,
   "metadata": {},
   "outputs": [
    {
     "data": {
      "text/plain": [
       "[<matplotlib.lines.Line2D at 0x2170d8a8910>]"
      ]
     },
     "execution_count": 13,
     "metadata": {},
     "output_type": "execute_result"
    },
    {
     "data": {
      "image/png": "[encoded data removed]",
      "text/plain": [
       "<Figure size 432x288 with 1 Axes>"
      ]
     },
     "metadata": {
      "needs_background": "light"
     },
     "output_type": "display_data"
    }
   ],
   "source": [
    "import matplotlib.pyplot as plt\n",
    "plt.scatter(data['X'],data['Y'],c='r')\n",
    "plt.scatter(data['X_MEAN'],data['Y_MEAN'],c='g')\n",
    "plt.plot(data['X'],data['Y_PRIDECT'],c='y')\n"
   ]
  },
  {
   "cell_type": "markdown",
   "metadata": {},
   "source": [
    "$$ MSE=\\frac{1}{N}\\sum (Yi-\\hat{Yi})^2$$"
   ]
  },
  {
   "cell_type": "code",
   "execution_count": 14,
   "metadata": {},
   "outputs": [
    {
     "data": {
      "text/plain": [
       "0.02489795918367362"
      ]
     },
     "execution_count": 14,
     "metadata": {},
     "output_type": "execute_result"
    }
   ],
   "source": [
    "# mean square error\n",
    "\n",
    "data['Yi_org - yi_prid']=(data['Y']-data['Y_PRIDECT'])**2\n",
    "Z=data['Yi_org - yi_prid'].sum()\n",
    "MSE = (1/N) * Z\n",
    "\n",
    "\n",
    "def MSE(data):\n",
    "    return sum([(y_org - y_pred)**2 for y_org,y_pred in zip(data['Y'],data['Y_PRIDECT'])])/N\n",
    "\n",
    "MSE(data)"
   ]
  },
  {
   "cell_type": "markdown",
   "metadata": {},
   "source": [
    "$$ RMSE=\\sqrt{\\frac{1}{N}\\sum (Yi-\\hat{Yi})^2}$$"
   ]
  },
  {
   "cell_type": "code",
   "execution_count": 15,
   "metadata": {},
   "outputs": [
    {
     "data": {
      "text/plain": [
       "0.1577908716741042"
      ]
     },
     "execution_count": 15,
     "metadata": {},
     "output_type": "execute_result"
    }
   ],
   "source": [
    "# root mean square error\n",
    "\n",
    "import math\n",
    "\n",
    "def RMSE(data):\n",
    "    return math.sqrt(sum([(y_org - y_pred)**2 for y_org,y_pred in zip(data['Y'],data['Y_PRIDECT'])])/N)\n",
    "\n",
    "\n",
    "RMSE(data)"
   ]
  },
  {
   "cell_type": "markdown",
   "metadata": {},
   "source": [
    "$$MAE=\\frac{1}{N}\\sum \\left | Y_{pred}-Y_{mean} \\right |$$"
   ]
  },
  {
   "cell_type": "code",
   "execution_count": 16,
   "metadata": {},
   "outputs": [],
   "source": [
    "#mean absolute error \n",
    "#this is the measure of predicted values- original values, by total number of input values"
   ]
  },
  {
   "cell_type": "code",
   "execution_count": 17,
   "metadata": {},
   "outputs": [
    {
     "data": {
      "text/plain": [
       "1.2688263138573218e-15"
      ]
     },
     "execution_count": 17,
     "metadata": {},
     "output_type": "execute_result"
    }
   ],
   "source": [
    "def MAE(data):\n",
    "    return abs(sum([(y_pred - y_mean ) for y_pred,y_mean in zip(data['Y_PRIDECT'],data['Y_MEAN'])]))/N\n",
    "    \n",
    "MAE(data)"
   ]
  },
  {
   "cell_type": "markdown",
   "metadata": {},
   "source": [
    " $$ R2SCORE=1-\\frac{\\sum (Y_{org}-\\hat{y_{pred}})^{2}}{\\sum(\\hat{y_{pred}}-Y{mean})^{2}}$$"
   ]
  },
  {
   "cell_type": "code",
   "execution_count": 18,
   "metadata": {},
   "outputs": [
    {
     "data": {
      "text/plain": [
       "0.9989446366782007"
      ]
     },
     "execution_count": 18,
     "metadata": {},
     "output_type": "execute_result"
    }
   ],
   "source": [
    "def R2(data):\n",
    "    return  1-sum([(y_org - y_pred)**2 for y_org,y_pred in zip(data['Y'],data['Y_PRIDECT'])])/sum([(y_pred - y_mean)**2 for y_pred,y_mean in zip(data['Y_PRIDECT'],data['Y_MEAN'])])\n",
    "R2(data)\n"
   ]
  },
  {
   "cell_type": "markdown",
   "metadata": {},
   "source": []
  },
  {
   "cell_type": "code",
   "execution_count": 19,
   "metadata": {},
   "outputs": [
    {
     "data": {
      "text/plain": [
       "-155.0"
      ]
     },
     "execution_count": 19,
     "metadata": {},
     "output_type": "execute_result"
    }
   ],
   "source": [
    "y_org=data['Y']\n",
    "y_pred=data['Y_PRIDECT']\n",
    "data['Y_MEAN']=(sum_Y)/2\n",
    "data['Y_PRIDECT_MEAN']=(data['Y_PRIDECT'].sum())/2\n",
    "\n",
    "def RSS(data):\n",
    "    return sum([(y_org - y_pred) for y_org,y_pred in zip(data['Y'],data['Y_PRIDECT'])])\n",
    "\n",
    "def TSS(data):\n",
    "    return sum([(y_org - y_mean) for y_org,y_mean in zip(data['Y'],data['Y_MEAN'])])\n",
    "\n",
    "def TSS2(data):\n",
    "    return sum([(y_org - y_pridect_mean) for y_org,y_pridect_mean in zip(data['Y'],data['Y_PRIDECT_MEAN'])])\n",
    "\n",
    "\n",
    "TSS(data)"
   ]
  },
  {
   "cell_type": "markdown",
   "metadata": {},
   "source": [
    "# CLASS"
   ]
  },
  {
   "cell_type": "code",
   "execution_count": 20,
   "metadata": {},
   "outputs": [
    {
     "data": {
      "text/plain": [
       "0.9999515531196217"
      ]
     },
     "execution_count": 20,
     "metadata": {},
     "output_type": "execute_result"
    }
   ],
   "source": [
    "class linearregression:\n",
    "    def __init__(self,data):\n",
    "            self.data=data\n",
    "            \n",
    "    def M_SLOPE(self,data):\n",
    "        X=(len(data)*sum(data['XY'])-sum(data['X'])*sum(data['Y']))\n",
    "        Y=(len(data)* sum(data['squar_X'])-(sum(data['X'])**2))\n",
    "        M=X/Y\n",
    "        return M\n",
    "    \n",
    "    def B(self,data):\n",
    "        B=(sum(data['Y']) - M * sum(data['X']))/N\n",
    "        return B\n",
    "    \n",
    "    def SLOPE(self,data):\n",
    "        X=data['X']\n",
    "        Y=[(M * X + B) for X in range(1,len(X)+1)]\n",
    "        return Y\n",
    "    \n",
    "    def MSE(self,data):\n",
    "        MSE=sum([(y_org - y_pred)**2 for y_org,y_pred in zip(data['Y'],data['Y_PRIDECT'])])/N\n",
    "        return MSE\n",
    "    \n",
    "    def RMSE(self,data):\n",
    "        RMSE=math.sqrt(sum([(y_org - y_pred)**2 for y_org,y_pred in zip(data['Y'],data['Y_PRIDECT'])])/N)\n",
    "        return RMSE\n",
    "    \n",
    "    def MAE(self,data):\n",
    "        MAE=abs(sum([(y_pred - y_mean ) for y_pred,y_mean in zip(data['Y_PRIDECT'],data['Y_MEAN'])]))/N\n",
    "        return MAE\n",
    "    \n",
    "    def R2(self,data):\n",
    "        R2=1-sum([(y_org - y_pred)**2 for y_org,y_pred in zip(data['Y'],data['Y_PRIDECT'])])/sum([(y_org - y_mean)**2 for y_org,y_mean in zip(data['Y'],data['Y_MEAN'])])\n",
    "        return R2\n",
    "    \n",
    "    \n",
    "\n",
    "\n",
    "    \n",
    "\n",
    "        \n",
    "    \n",
    "p=linearregression(data)\n",
    "p.R2(data)\n",
    "   \n",
    "            "
   ]
  },
  {
   "cell_type": "code",
   "execution_count": null,
   "metadata": {},
   "outputs": [],
   "source": []
  },
  {
   "cell_type": "code",
   "execution_count": null,
   "metadata": {},
   "outputs": [],
   "source": []
  },
  {
   "cell_type": "code",
   "execution_count": null,
   "metadata": {},
   "outputs": [],
   "source": []
  },
  {
   "cell_type": "code",
   "execution_count": null,
   "metadata": {},
   "outputs": [],
   "source": []
  }
 ],
 "metadata": {
  "kernelspec": {
   "display_name": "Python 3",
   "language": "python",
   "name": "python3"
  },
  "language_info": {
   "codemirror_mode": {
    "name": "ipython",
    "version": 3
   },
   "file_extension": ".py",
   "mimetype": "text/x-python",
   "name": "python",
   "nbconvert_exporter": "python",
   "pygments_lexer": "ipython3",
   "version": "3.10.1"
  },
  "vscode": {
   "interpreter": {
    "hash": "5c7d781e8260984942ef03c848bec7ed9830a1ce534fd5b6bd1feeffb6e98109"
   }
  }
 },
 "nbformat": 4,
 "nbformat_minor": 4
}
