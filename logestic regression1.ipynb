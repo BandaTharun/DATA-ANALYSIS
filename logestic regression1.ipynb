{
 "cells": [
  {
   "cell_type": "code",
   "execution_count": 369,
   "metadata": {},
   "outputs": [],
   "source": [
    "import numpy as np\n",
    "import pandas as pd"
   ]
  },
  {
   "cell_type": "code",
   "execution_count": 371,
   "metadata": {},
   "outputs": [
    {
     "data": {
      "text/html": [
       "<div>\n",
       "<style scoped>\n",
       "    .dataframe tbody tr th:only-of-type {\n",
       "        vertical-align: middle;\n",
       "    }\n",
       "\n",
       "    .dataframe tbody tr th {\n",
       "        vertical-align: top;\n",
       "    }\n",
       "\n",
       "    .dataframe thead th {\n",
       "        text-align: right;\n",
       "    }\n",
       "</style>\n",
       "<table border=\"1\" class=\"dataframe\">\n",
       "  <thead>\n",
       "    <tr style=\"text-align: right;\">\n",
       "      <th></th>\n",
       "      <th>X</th>\n",
       "      <th>Y</th>\n",
       "      <th>m_slope</th>\n",
       "      <th>B</th>\n",
       "      <th>x_hats</th>\n",
       "      <th>sigomid</th>\n",
       "      <th>Y_PRED</th>\n",
       "      <th>ACCURACY</th>\n",
       "    </tr>\n",
       "  </thead>\n",
       "  <tbody>\n",
       "    <tr>\n",
       "      <th>0</th>\n",
       "      <td>0.2</td>\n",
       "      <td>0</td>\n",
       "      <td>1.807229</td>\n",
       "      <td>-0.423408</td>\n",
       "      <td>-0.061962</td>\n",
       "      <td>0.515486</td>\n",
       "      <td>1</td>\n",
       "      <td>0.333333</td>\n",
       "    </tr>\n",
       "    <tr>\n",
       "      <th>1</th>\n",
       "      <td>0.3</td>\n",
       "      <td>0</td>\n",
       "      <td>1.807229</td>\n",
       "      <td>-0.423408</td>\n",
       "      <td>0.118761</td>\n",
       "      <td>0.470345</td>\n",
       "      <td>0</td>\n",
       "      <td>0.333333</td>\n",
       "    </tr>\n",
       "    <tr>\n",
       "      <th>2</th>\n",
       "      <td>0.4</td>\n",
       "      <td>0</td>\n",
       "      <td>1.807229</td>\n",
       "      <td>-0.423408</td>\n",
       "      <td>0.299484</td>\n",
       "      <td>0.425684</td>\n",
       "      <td>0</td>\n",
       "      <td>0.333333</td>\n",
       "    </tr>\n",
       "    <tr>\n",
       "      <th>3</th>\n",
       "      <td>0.7</td>\n",
       "      <td>1</td>\n",
       "      <td>1.807229</td>\n",
       "      <td>-0.423408</td>\n",
       "      <td>0.841652</td>\n",
       "      <td>0.301187</td>\n",
       "      <td>0</td>\n",
       "      <td>0.333333</td>\n",
       "    </tr>\n",
       "    <tr>\n",
       "      <th>4</th>\n",
       "      <td>0.8</td>\n",
       "      <td>1</td>\n",
       "      <td>1.807229</td>\n",
       "      <td>-0.423408</td>\n",
       "      <td>1.022375</td>\n",
       "      <td>0.264565</td>\n",
       "      <td>0</td>\n",
       "      <td>0.333333</td>\n",
       "    </tr>\n",
       "    <tr>\n",
       "      <th>5</th>\n",
       "      <td>0.9</td>\n",
       "      <td>1</td>\n",
       "      <td>1.807229</td>\n",
       "      <td>-0.423408</td>\n",
       "      <td>1.203098</td>\n",
       "      <td>0.230925</td>\n",
       "      <td>0</td>\n",
       "      <td>0.333333</td>\n",
       "    </tr>\n",
       "  </tbody>\n",
       "</table>\n",
       "</div>"
      ],
      "text/plain": [
       "     X  Y   m_slope         B    x_hats   sigomid  Y_PRED  ACCURACY\n",
       "0  0.2  0  1.807229 -0.423408 -0.061962  0.515486       1  0.333333\n",
       "1  0.3  0  1.807229 -0.423408  0.118761  0.470345       0  0.333333\n",
       "2  0.4  0  1.807229 -0.423408  0.299484  0.425684       0  0.333333\n",
       "3  0.7  1  1.807229 -0.423408  0.841652  0.301187       0  0.333333\n",
       "4  0.8  1  1.807229 -0.423408  1.022375  0.264565       0  0.333333\n",
       "5  0.9  1  1.807229 -0.423408  1.203098  0.230925       0  0.333333"
      ]
     },
     "execution_count": 371,
     "metadata": {},
     "output_type": "execute_result"
    }
   ],
   "source": [
    "class logisticregression:\n",
    "    def __init__(self,data):\n",
    "        self.data=data\n",
    "    \n",
    "    def create_DataFrame(self,data):\n",
    "        DataFrame=pd.DataFrame(data)\n",
    "        return DataFrame\n",
    "    \n",
    "    def M_SLOPE(self,data):\n",
    "        X=(len(data)*sum((data['X'])*(data['Y']))-sum(data['X'])*sum(data['Y']))\n",
    "        Y=(len(data)* sum(data['X'] ** 2)-(sum(data['X'])**2))\n",
    "        M=X/Y\n",
    "        return M\n",
    "        \n",
    "    def B(self,data):\n",
    "        B=(sum(data['Y']) - logisticregression.M_SLOPE(self,data) * sum(data['X']))/N\n",
    "        return B\n",
    "    \n",
    "    def X_HATS(self,data):\n",
    "        x=data['X']\n",
    "        #WE ARE CALLING M AND B \n",
    "        Y=[( logisticregression.M_SLOPE(self,data) * X +  logisticregression.B(self,data)) for X in x ]\n",
    "        return Y\n",
    "    \n",
    "    def SIGMOID(self,data):\n",
    "        vals=[]\n",
    "        \n",
    "        for X_HAT in  logisticregression.X_HATS(self,data):\n",
    "            val= 1/ (1 + np.exp(X_HAT))\n",
    "            vals.append(val)\n",
    "        return vals\n",
    "    \n",
    "    def Y_PRED(self,data):\n",
    "        lg=logisticregression.SIGMOID(self,data)\n",
    "        w=[]\n",
    "        for i in range(len(lg)):\n",
    "            if lg[i] > 0.5:\n",
    "                w.append(1)\n",
    "            else:\n",
    "                w.append(0)\n",
    "        return w\n",
    "    \n",
    "    def ACCURACY(self,data):\n",
    "        a=data['Y']\n",
    "        b=data['Y_PRED']\n",
    "        c=0\n",
    "        for i,j in zip(a,b):\n",
    "            if i==j:\n",
    "                c+=1\n",
    "            else:\n",
    "                pass\n",
    "            accuracy=c/len(a)\n",
    "        return accuracy\n",
    "      \n",
    "   \n",
    "           \n",
    "# its very important that when you create x & y inputs you create the dataframe and you should assin it to the same varable\n",
    "# you created \n",
    "# with the data then you start multyplay or take mean with the inputs given ,if you dont do the assigement of\n",
    "# dataframe to the varable in which the data is stored\n",
    "# cant perform the opperations\n",
    "\n",
    "data1={'X':[0.2,0.3,0.4,0.7,0.8,0.9],\n",
    "        'Y':[0,0,0,1,1,1]}\n",
    "\n",
    "\n",
    "lg=logisticregression(data1)\n",
    "data1=lg.create_DataFrame(data1)\n",
    "data1['m_slope']=lg.M_SLOPE(data1)\n",
    "data1['B']=lg.B(data1)\n",
    "data1['x_hats']=lg.X_HATS(data1)\n",
    "data1['sigomid']=lg.SIGMOID(data1)\n",
    "\n",
    "data1['Y_PRED']=lg.Y_PRED(data1)\n",
    "data1['ACCURACY']=lg.ACCURACY(data1)\n",
    "data1\n"
   ]
  },
  {
   "cell_type": "markdown",
   "metadata": {},
   "source": [
    "$$m=\\frac{n\\sum xy-\\sum x\\sum y}{n \\sum x^2 -(\\sum x)^2}$$\n",
    "            \n",
    "                \n",
    "            "
   ]
  },
  {
   "cell_type": "markdown",
   "metadata": {},
   "source": [
    "$$B=\\frac{\\sum Y -M\\sum X}{N}$$"
   ]
  },
  {
   "cell_type": "markdown",
   "metadata": {},
   "source": [
    "\n",
    "$$ \\hat{Y} = MX + C $$"
   ]
  },
  {
   "cell_type": "markdown",
   "metadata": {},
   "source": [
    "$$SIGMOID =\\frac{1}{(1+e^{\\hat{-x}})}$$"
   ]
  },
  {
   "cell_type": "markdown",
   "metadata": {},
   "source": [
    "$$ accuracy =  Truly pridected  /  total number of original values$$"
   ]
  },
  {
   "cell_type": "code",
   "execution_count": null,
   "metadata": {},
   "outputs": [],
   "source": []
  }
 ],
 "metadata": {
  "kernelspec": {
   "display_name": "Python 3",
   "language": "python",
   "name": "python3"
  },
  "language_info": {
   "codemirror_mode": {
    "name": "ipython",
    "version": 3
   },
   "file_extension": ".py",
   "mimetype": "text/x-python",
   "name": "python",
   "nbconvert_exporter": "python",
   "pygments_lexer": "ipython3",
   "version": "3.8.5"
  },
  "vscode": {
   "interpreter": {
    "hash": "5c7d781e8260984942ef03c848bec7ed9830a1ce534fd5b6bd1feeffb6e98109"
   }
  }
 },
 "nbformat": 4,
 "nbformat_minor": 4
}
